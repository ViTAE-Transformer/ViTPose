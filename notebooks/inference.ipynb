{
 "cells": [
  {
   "cell_type": "code",
   "execution_count": 1,
   "id": "960b5246",
   "metadata": {},
   "outputs": [
    {
     "name": "stderr",
     "output_type": "stream",
     "text": [
      "/private/home/taoshaf/miniforge3/envs/vitpose/lib/python3.9/site-packages/mmengine/optim/optimizer/zero_optimizer.py:11: DeprecationWarning: `TorchScript` support for functional optimizers is deprecated and will be removed in a future PyTorch release. Consider using the `torch.compile` optimizer instead.\n",
      "  from torch.distributed.optim import \\\n"
     ]
    }
   ],
   "source": [
    "import os\n",
    "import cv2\n",
    "\n",
    "import torch\n",
    "from loguru import logger\n",
    "from mmpose.apis import (\n",
    "    inference_topdown,\n",
    "    init_model,\n",
    ")\n",
    "from mmpose.apis.inference import inference_top_down_pose_model\n",
    "import json\n",
    "import numpy as np\n",
    "from tqdm import tqdm"
   ]
  },
  {
   "cell_type": "code",
   "execution_count": 2,
   "id": "a07761ab",
   "metadata": {},
   "outputs": [],
   "source": [
    "import torch, detectron2\n",
    "# import some common detectron2 utilities\n",
    "from detectron2 import model_zoo\n",
    "from detectron2.engine import DefaultPredictor\n",
    "from detectron2.config import get_cfg\n",
    "from detectron2.utils.visualizer import Visualizer\n",
    "from detectron2.data import MetadataCatalog, DatasetCatalog"
   ]
  },
  {
   "cell_type": "code",
   "execution_count": 3,
   "id": "7cea1036",
   "metadata": {},
   "outputs": [],
   "source": [
    "import matplotlib.pyplot as plt"
   ]
  },
  {
   "cell_type": "code",
   "execution_count": 4,
   "id": "ddf30e5f",
   "metadata": {},
   "outputs": [],
   "source": [
    "device = \"cuda\""
   ]
  },
  {
   "cell_type": "code",
   "execution_count": 5,
   "id": "bf1fb7d7",
   "metadata": {},
   "outputs": [],
   "source": [
    "cfg = get_cfg()\n",
    "cfg.merge_from_file(model_zoo.get_config_file(\"COCO-InstanceSegmentation/mask_rcnn_R_50_FPN_3x.yaml\"))\n",
    "cfg.MODEL.ROI_HEADS.SCORE_THRESH_TEST = 0.5  # set threshold for this model\n",
    "cfg.MODEL.WEIGHTS = model_zoo.get_checkpoint_url(\"COCO-InstanceSegmentation/mask_rcnn_R_50_FPN_3x.yaml\")"
   ]
  },
  {
   "cell_type": "code",
   "execution_count": 6,
   "id": "79d9ee49",
   "metadata": {},
   "outputs": [],
   "source": [
    "VIT_DIR = \"/private/home/taoshaf/Documents/python/ViTPose\"\n",
    "VITPOSE_CKPT_PTH = \"/private/home/taoshaf/checkpoints/vitpose/vitpose_h_wholebody/wholebody.pth\"\n",
    "VITPOSE_CFG = os.path.join(\n",
    "    VIT_DIR,\n",
    "    \"configs/wholebody/2d_kpt_sview_rgb_img/topdown_heatmap/coco-wholebody/ViTPose_huge_wholebody_256x192.py\",\n",
    ")"
   ]
  },
  {
   "cell_type": "code",
   "execution_count": 7,
   "id": "4c9bc96b",
   "metadata": {},
   "outputs": [],
   "source": [
    "body_idxs = list(range(23))\n",
    "hand_idxs = list(range(91, 133))"
   ]
  },
  {
   "cell_type": "code",
   "execution_count": 8,
   "id": "7bdac637",
   "metadata": {},
   "outputs": [],
   "source": [
    "def build_vitpose(device):\n",
    "    detector = init_model(VITPOSE_CFG, VITPOSE_CKPT_PTH, device=device)\n",
    "    return detector"
   ]
  },
  {
   "cell_type": "code",
   "execution_count": 9,
   "id": "83548e71",
   "metadata": {},
   "outputs": [],
   "source": [
    "predictor = DefaultPredictor(cfg)"
   ]
  },
  {
   "cell_type": "code",
   "execution_count": 10,
   "id": "bec52fee",
   "metadata": {},
   "outputs": [
    {
     "name": "stdout",
     "output_type": "stream",
     "text": [
      "04/27 19:52:49 - mmengine - \u001b[5m\u001b[4m\u001b[33mWARNING\u001b[0m - \n",
      "The config you are using is outdated. The following section of the config:\n",
      "```\n",
      "model=dict(\n",
      "    ...,\n",
      "    head=dict(\n",
      "        extra=dict(final_conv_kernel=1),\n",
      "        ...),\n",
      "```\n",
      "should be updated to\n",
      "```\n",
      "model=dict(\n",
      "    ...,\n",
      "    head=dict(\n",
      "        final_layer=dict(kernel_size=1),\n",
      "        ...),\n",
      "```\n",
      "For more information, please refer to https://mmpose.readthedocs.io/en/latest/guide_to_framework.html#step3-model\n",
      "Loads checkpoint by local backend from path: /private/home/taoshaf/checkpoints/vitpose/vitpose_h_wholebody/wholebody.pth\n"
     ]
    },
    {
     "name": "stderr",
     "output_type": "stream",
     "text": [
      "/private/home/taoshaf/miniforge3/envs/vitpose/lib/python3.9/site-packages/mmengine/runner/checkpoint.py:347: FutureWarning: You are using `torch.load` with `weights_only=False` (the current default value), which uses the default pickle module implicitly. It is possible to construct malicious pickle data which will execute arbitrary code during unpickling (See https://github.com/pytorch/pytorch/blob/main/SECURITY.md#untrusted-models for more details). In a future release, the default value for `weights_only` will be flipped to `True`. This limits the functions that could be executed during unpickling. Arbitrary objects will no longer be allowed to be loaded via this mode unless they are explicitly allowlisted by the user via `torch.serialization.add_safe_globals`. We recommend you start setting `weights_only=True` for any use case where you don't have full control of the loaded file. Please open an issue on GitHub for any issues related to this experimental feature.\n",
      "  checkpoint = torch.load(filename, map_location=map_location)\n",
      "/private/home/taoshaf/Documents/python/ViTPose/mmpose/mmpose/apis/inference.py:124: UserWarning: Can not load dataset_meta from the checkpoint or the model config. Use COCO metainfo by default.\n",
      "  warnings.warn(\n",
      "/private/home/taoshaf/Documents/python/ViTPose/mmpose/mmpose/datasets/datasets/utils.py:102: UserWarning: The metainfo config file \"configs/_base_/datasets/coco.py\" does not exist. A matched config file \"/private/home/taoshaf/Documents/python/ViTPose/mmpose/mmpose/.mim/configs/_base_/datasets/coco.py\" will be used instead.\n",
      "  warnings.warn(\n"
     ]
    }
   ],
   "source": [
    "detector = build_vitpose(device)"
   ]
  },
  {
   "cell_type": "code",
   "execution_count": 11,
   "id": "f29cb17c",
   "metadata": {},
   "outputs": [],
   "source": [
    "data_dir = \"/private/home/taoshaf/data/egoexo4d/uniandes_bouldering_012_43/\"\n",
    "data_dir = \"/private/home/taoshaf/data/egoexo4d/uniandes_dance_019_15/\""
   ]
  },
  {
   "cell_type": "code",
   "execution_count": null,
   "id": "fb7a83e9",
   "metadata": {},
   "outputs": [],
   "source": [
    "for cam in [\"cam02\", \"cam03\", \"cam04\"]:\n",
    "    img_dir = os.path.join(data_dir, cam)\n",
    "    img_files = sorted(os.listdir(img_dir))\n",
    "\n",
    "    keypoints = {}\n",
    "    bboxes = {}\n",
    "    for idx, img_file in tqdm(enumerate(img_files)):\n",
    "        img_path = os.path.join(img_dir, img_file)\n",
    "        img = cv2.imread(img_path)[:, :, ::-1]\n",
    "\n",
    "        det = predictor(img[:, :, ::-1])\n",
    "        if len(det[\"instances\"].pred_boxes.tensor) == 0:\n",
    "            continue\n",
    "        bbox = det[\"instances\"].pred_boxes.tensor[0].to(int).cpu().numpy()\n",
    "        H, W = img.shape[:2]\n",
    "        xc, yc = (bbox[:2] + bbox[2:]) // 2\n",
    "        xw, yh = (1.1 * (bbox[2:] - bbox[:2])).astype(int)\n",
    "        bbox = [max(0, xc - xw // 2), max(0, yc - yh // 2), min(W - 1, xc + xw // 2), min(H - 1, yc + yh // 2)]\n",
    "        results, _ = inference_topdown(detector, img_path, person_results=[{\"bbox\": bbox}], format=\"xyxy\")\n",
    "        kpts = results[0][\"keypoints\"]\n",
    "        bboxes[idx] = np.array(bbox).astype(int).tolist()\n",
    "        keypoints[idx] = np.array(kpts).tolist()\n",
    "\n",
    "    bbox_dir = os.path.join(data_dir, \"bboxes\")\n",
    "    if not os.path.exists(bbox_dir):\n",
    "        os.makedirs(bbox_dir)\n",
    "    with open(os.path.join(bbox_dir, f\"{cam}.json\"), \"w\") as f:\n",
    "        json.dump(bboxes, f)\n",
    "\n",
    "    keypoint_dir = os.path.join(data_dir, \"keypoints\")\n",
    "    if not os.path.exists(keypoint_dir):\n",
    "        os.makedirs(keypoint_dir)\n",
    "    with open(os.path.join(keypoint_dir, f\"{cam}.json\"), \"w\") as f:\n",
    "        json.dump(bboxes, f)"
   ]
  },
  {
   "cell_type": "code",
   "execution_count": 12,
   "id": "94b322b5",
   "metadata": {},
   "outputs": [],
   "source": [
    "cam = \"cam01\"\n",
    "img_dir = os.path.join(data_dir, cam)\n",
    "img_file = sorted(os.listdir(img_dir))[0]"
   ]
  },
  {
   "cell_type": "code",
   "execution_count": 13,
   "id": "798aebd4",
   "metadata": {},
   "outputs": [],
   "source": [
    "img_path = os.path.join(img_dir, img_file)\n",
    "img = cv2.imread(img_path)[:, :, ::-1]"
   ]
  },
  {
   "cell_type": "code",
   "execution_count": 14,
   "id": "549d98a0",
   "metadata": {},
   "outputs": [
    {
     "name": "stderr",
     "output_type": "stream",
     "text": [
      "/private/home/taoshaf/miniforge3/envs/vitpose/lib/python3.9/site-packages/torch/functional.py:534: UserWarning: torch.meshgrid: in an upcoming release, it will be required to pass the indexing argument. (Triggered internally at /opt/conda/conda-bld/pytorch_1729647350383/work/aten/src/ATen/native/TensorShape.cpp:3595.)\n",
      "  return _VF.meshgrid(tensors, **kwargs)  # type: ignore[attr-defined]\n"
     ]
    }
   ],
   "source": [
    "det = predictor(img[:, :, ::-1])\n",
    "bbox = det[\"instances\"].pred_boxes.tensor[0].to(int).cpu().numpy()"
   ]
  },
  {
   "cell_type": "code",
   "execution_count": 15,
   "id": "f8513708",
   "metadata": {},
   "outputs": [
    {
     "data": {
      "text/plain": [
       "<matplotlib.image.AxesImage at 0x7f9121b1f370>"
      ]
     },
     "execution_count": 15,
     "metadata": {},
     "output_type": "execute_result"
    },
    {
     "data": {
      "image/png": "[encoded data removed]",
      "text/plain": [
       "<Figure size 640x480 with 1 Axes>"
      ]
     },
     "metadata": {},
     "output_type": "display_data"
    }
   ],
   "source": [
    "plt.imshow(img[bbox[1]:bbox[3], bbox[0]:bbox[2]])"
   ]
  },
  {
   "cell_type": "code",
   "execution_count": null,
   "id": "426f0e78",
   "metadata": {},
   "outputs": [
    {
     "data": {
      "text/html": [
       "<pre style=\"white-space:pre;overflow-x:auto;line-height:normal;font-family:Menlo,'DejaVu Sans Mono',consolas,'Courier New',monospace\"></pre>\n"
      ],
      "text/plain": []
     },
     "metadata": {},
     "output_type": "display_data"
    },
    {
     "data": {
      "text/html": [
       "<pre style=\"white-space:pre;overflow-x:auto;line-height:normal;font-family:Menlo,'DejaVu Sans Mono',consolas,'Courier New',monospace\"></pre>\n"
      ],
      "text/plain": []
     },
     "metadata": {},
     "output_type": "display_data"
    },
    {
     "data": {
      "text/html": [
       "<pre style=\"white-space:pre;overflow-x:auto;line-height:normal;font-family:Menlo,'DejaVu Sans Mono',consolas,'Courier New',monospace\"></pre>\n"
      ],
      "text/plain": []
     },
     "metadata": {},
     "output_type": "display_data"
    },
    {
     "data": {
      "text/html": [
       "<pre style=\"white-space:pre;overflow-x:auto;line-height:normal;font-family:Menlo,'DejaVu Sans Mono',consolas,'Courier New',monospace\"></pre>\n"
      ],
      "text/plain": []
     },
     "metadata": {},
     "output_type": "display_data"
    },
    {
     "data": {
      "text/html": [
       "<pre style=\"white-space:pre;overflow-x:auto;line-height:normal;font-family:Menlo,'DejaVu Sans Mono',consolas,'Courier New',monospace\"></pre>\n"
      ],
      "text/plain": []
     },
     "metadata": {},
     "output_type": "display_data"
    },
    {
     "data": {
      "text/html": [
       "<pre style=\"white-space:pre;overflow-x:auto;line-height:normal;font-family:Menlo,'DejaVu Sans Mono',consolas,'Courier New',monospace\"></pre>\n"
      ],
      "text/plain": []
     },
     "metadata": {},
     "output_type": "display_data"
    },
    {
     "data": {
      "text/html": [
       "<pre style=\"white-space:pre;overflow-x:auto;line-height:normal;font-family:Menlo,'DejaVu Sans Mono',consolas,'Courier New',monospace\"></pre>\n"
      ],
      "text/plain": []
     },
     "metadata": {},
     "output_type": "display_data"
    },
    {
     "data": {
      "text/html": [
       "<pre style=\"white-space:pre;overflow-x:auto;line-height:normal;font-family:Menlo,'DejaVu Sans Mono',consolas,'Courier New',monospace\"></pre>\n"
      ],
      "text/plain": []
     },
     "metadata": {},
     "output_type": "display_data"
    },
    {
     "data": {
      "text/html": [
       "<pre style=\"white-space:pre;overflow-x:auto;line-height:normal;font-family:Menlo,'DejaVu Sans Mono',consolas,'Courier New',monospace\"></pre>\n"
      ],
      "text/plain": []
     },
     "metadata": {},
     "output_type": "display_data"
    },
    {
     "data": {
      "text/html": [
       "<pre style=\"white-space:pre;overflow-x:auto;line-height:normal;font-family:Menlo,'DejaVu Sans Mono',consolas,'Courier New',monospace\"></pre>\n"
      ],
      "text/plain": []
     },
     "metadata": {},
     "output_type": "display_data"
    },
    {
     "data": {
      "text/html": [
       "<pre style=\"white-space:pre;overflow-x:auto;line-height:normal;font-family:Menlo,'DejaVu Sans Mono',consolas,'Courier New',monospace\"></pre>\n"
      ],
      "text/plain": []
     },
     "metadata": {},
     "output_type": "display_data"
    },
    {
     "data": {
      "text/html": [
       "<pre style=\"white-space:pre;overflow-x:auto;line-height:normal;font-family:Menlo,'DejaVu Sans Mono',consolas,'Courier New',monospace\"></pre>\n"
      ],
      "text/plain": []
     },
     "metadata": {},
     "output_type": "display_data"
    },
    {
     "data": {
      "text/html": [
       "<pre style=\"white-space:pre;overflow-x:auto;line-height:normal;font-family:Menlo,'DejaVu Sans Mono',consolas,'Courier New',monospace\"></pre>\n"
      ],
      "text/plain": []
     },
     "metadata": {},
     "output_type": "display_data"
    },
    {
     "data": {
      "text/html": [
       "<pre style=\"white-space:pre;overflow-x:auto;line-height:normal;font-family:Menlo,'DejaVu Sans Mono',consolas,'Courier New',monospace\"></pre>\n"
      ],
      "text/plain": []
     },
     "metadata": {},
     "output_type": "display_data"
    },
    {
     "data": {
      "text/html": [
       "<pre style=\"white-space:pre;overflow-x:auto;line-height:normal;font-family:Menlo,'DejaVu Sans Mono',consolas,'Courier New',monospace\"></pre>\n"
      ],
      "text/plain": []
     },
     "metadata": {},
     "output_type": "display_data"
    },
    {
     "data": {
      "text/html": [
       "<pre style=\"white-space:pre;overflow-x:auto;line-height:normal;font-family:Menlo,'DejaVu Sans Mono',consolas,'Courier New',monospace\"></pre>\n"
      ],
      "text/plain": []
     },
     "metadata": {},
     "output_type": "display_data"
    },
    {
     "data": {
      "text/html": [
       "<pre style=\"white-space:pre;overflow-x:auto;line-height:normal;font-family:Menlo,'DejaVu Sans Mono',consolas,'Courier New',monospace\"></pre>\n"
      ],
      "text/plain": []
     },
     "metadata": {},
     "output_type": "display_data"
    },
    {
     "data": {
      "text/html": [
       "<pre style=\"white-space:pre;overflow-x:auto;line-height:normal;font-family:Menlo,'DejaVu Sans Mono',consolas,'Courier New',monospace\"></pre>\n"
      ],
      "text/plain": []
     },
     "metadata": {},
     "output_type": "display_data"
    },
    {
     "data": {
      "text/html": [
       "<pre style=\"white-space:pre;overflow-x:auto;line-height:normal;font-family:Menlo,'DejaVu Sans Mono',consolas,'Courier New',monospace\"></pre>\n"
      ],
      "text/plain": []
     },
     "metadata": {},
     "output_type": "display_data"
    },
    {
     "data": {
      "text/html": [
       "<pre style=\"white-space:pre;overflow-x:auto;line-height:normal;font-family:Menlo,'DejaVu Sans Mono',consolas,'Courier New',monospace\"></pre>\n"
      ],
      "text/plain": []
     },
     "metadata": {},
     "output_type": "display_data"
    },
    {
     "data": {
      "text/html": [
       "<pre style=\"white-space:pre;overflow-x:auto;line-height:normal;font-family:Menlo,'DejaVu Sans Mono',consolas,'Courier New',monospace\"></pre>\n"
      ],
      "text/plain": []
     },
     "metadata": {},
     "output_type": "display_data"
    },
    {
     "data": {
      "text/html": [
       "<pre style=\"white-space:pre;overflow-x:auto;line-height:normal;font-family:Menlo,'DejaVu Sans Mono',consolas,'Courier New',monospace\"></pre>\n"
      ],
      "text/plain": []
     },
     "metadata": {},
     "output_type": "display_data"
    },
    {
     "data": {
      "text/html": [
       "<pre style=\"white-space:pre;overflow-x:auto;line-height:normal;font-family:Menlo,'DejaVu Sans Mono',consolas,'Courier New',monospace\"></pre>\n"
      ],
      "text/plain": []
     },
     "metadata": {},
     "output_type": "display_data"
    },
    {
     "data": {
      "text/html": [
       "<pre style=\"white-space:pre;overflow-x:auto;line-height:normal;font-family:Menlo,'DejaVu Sans Mono',consolas,'Courier New',monospace\"></pre>\n"
      ],
      "text/plain": []
     },
     "metadata": {},
     "output_type": "display_data"
    },
    {
     "data": {
      "text/html": [
       "<pre style=\"white-space:pre;overflow-x:auto;line-height:normal;font-family:Menlo,'DejaVu Sans Mono',consolas,'Courier New',monospace\"></pre>\n"
      ],
      "text/plain": []
     },
     "metadata": {},
     "output_type": "display_data"
    },
    {
     "data": {
      "text/html": [
       "<pre style=\"white-space:pre;overflow-x:auto;line-height:normal;font-family:Menlo,'DejaVu Sans Mono',consolas,'Courier New',monospace\"></pre>\n"
      ],
      "text/plain": []
     },
     "metadata": {},
     "output_type": "display_data"
    },
    {
     "data": {
      "text/html": [
       "<pre style=\"white-space:pre;overflow-x:auto;line-height:normal;font-family:Menlo,'DejaVu Sans Mono',consolas,'Courier New',monospace\"></pre>\n"
      ],
      "text/plain": []
     },
     "metadata": {},
     "output_type": "display_data"
    },
    {
     "data": {
      "text/html": [
       "<pre style=\"white-space:pre;overflow-x:auto;line-height:normal;font-family:Menlo,'DejaVu Sans Mono',consolas,'Courier New',monospace\"></pre>\n"
      ],
      "text/plain": []
     },
     "metadata": {},
     "output_type": "display_data"
    },
    {
     "data": {
      "text/html": [
       "<pre style=\"white-space:pre;overflow-x:auto;line-height:normal;font-family:Menlo,'DejaVu Sans Mono',consolas,'Courier New',monospace\"></pre>\n"
      ],
      "text/plain": []
     },
     "metadata": {},
     "output_type": "display_data"
    },
    {
     "data": {
      "text/html": [
       "<pre style=\"white-space:pre;overflow-x:auto;line-height:normal;font-family:Menlo,'DejaVu Sans Mono',consolas,'Courier New',monospace\"></pre>\n"
      ],
      "text/plain": []
     },
     "metadata": {},
     "output_type": "display_data"
    },
    {
     "data": {
      "text/html": [
       "<pre style=\"white-space:pre;overflow-x:auto;line-height:normal;font-family:Menlo,'DejaVu Sans Mono',consolas,'Courier New',monospace\"></pre>\n"
      ],
      "text/plain": []
     },
     "metadata": {},
     "output_type": "display_data"
    },
    {
     "data": {
      "text/html": [
       "<pre style=\"white-space:pre;overflow-x:auto;line-height:normal;font-family:Menlo,'DejaVu Sans Mono',consolas,'Courier New',monospace\"></pre>\n"
      ],
      "text/plain": []
     },
     "metadata": {},
     "output_type": "display_data"
    },
    {
     "data": {
      "text/html": [
       "<pre style=\"white-space:pre;overflow-x:auto;line-height:normal;font-family:Menlo,'DejaVu Sans Mono',consolas,'Courier New',monospace\"></pre>\n"
      ],
      "text/plain": []
     },
     "metadata": {},
     "output_type": "display_data"
    },
    {
     "data": {
      "text/html": [
       "<pre style=\"white-space:pre;overflow-x:auto;line-height:normal;font-family:Menlo,'DejaVu Sans Mono',consolas,'Courier New',monospace\"></pre>\n"
      ],
      "text/plain": []
     },
     "metadata": {},
     "output_type": "display_data"
    },
    {
     "data": {
      "text/html": [
       "<pre style=\"white-space:pre;overflow-x:auto;line-height:normal;font-family:Menlo,'DejaVu Sans Mono',consolas,'Courier New',monospace\"></pre>\n"
      ],
      "text/plain": []
     },
     "metadata": {},
     "output_type": "display_data"
    },
    {
     "data": {
      "text/html": [
       "<pre style=\"white-space:pre;overflow-x:auto;line-height:normal;font-family:Menlo,'DejaVu Sans Mono',consolas,'Courier New',monospace\"></pre>\n"
      ],
      "text/plain": []
     },
     "metadata": {},
     "output_type": "display_data"
    },
    {
     "data": {
      "text/html": [
       "<pre style=\"white-space:pre;overflow-x:auto;line-height:normal;font-family:Menlo,'DejaVu Sans Mono',consolas,'Courier New',monospace\"></pre>\n"
      ],
      "text/plain": []
     },
     "metadata": {},
     "output_type": "display_data"
    },
    {
     "data": {
      "text/html": [
       "<pre style=\"white-space:pre;overflow-x:auto;line-height:normal;font-family:Menlo,'DejaVu Sans Mono',consolas,'Courier New',monospace\"></pre>\n"
      ],
      "text/plain": []
     },
     "metadata": {},
     "output_type": "display_data"
    },
    {
     "data": {
      "text/html": [
       "<pre style=\"white-space:pre;overflow-x:auto;line-height:normal;font-family:Menlo,'DejaVu Sans Mono',consolas,'Courier New',monospace\"></pre>\n"
      ],
      "text/plain": []
     },
     "metadata": {},
     "output_type": "display_data"
    },
    {
     "data": {
      "text/html": [
       "<pre style=\"white-space:pre;overflow-x:auto;line-height:normal;font-family:Menlo,'DejaVu Sans Mono',consolas,'Courier New',monospace\"></pre>\n"
      ],
      "text/plain": []
     },
     "metadata": {},
     "output_type": "display_data"
    },
    {
     "data": {
      "text/html": [
       "<pre style=\"white-space:pre;overflow-x:auto;line-height:normal;font-family:Menlo,'DejaVu Sans Mono',consolas,'Courier New',monospace\"></pre>\n"
      ],
      "text/plain": []
     },
     "metadata": {},
     "output_type": "display_data"
    },
    {
     "data": {
      "text/html": [
       "<pre style=\"white-space:pre;overflow-x:auto;line-height:normal;font-family:Menlo,'DejaVu Sans Mono',consolas,'Courier New',monospace\"></pre>\n"
      ],
      "text/plain": []
     },
     "metadata": {},
     "output_type": "display_data"
    },
    {
     "data": {
      "text/html": [
       "<pre style=\"white-space:pre;overflow-x:auto;line-height:normal;font-family:Menlo,'DejaVu Sans Mono',consolas,'Courier New',monospace\"></pre>\n"
      ],
      "text/plain": []
     },
     "metadata": {},
     "output_type": "display_data"
    },
    {
     "data": {
      "text/html": [
       "<pre style=\"white-space:pre;overflow-x:auto;line-height:normal;font-family:Menlo,'DejaVu Sans Mono',consolas,'Courier New',monospace\"></pre>\n"
      ],
      "text/plain": []
     },
     "metadata": {},
     "output_type": "display_data"
    },
    {
     "data": {
      "text/html": [
       "<pre style=\"white-space:pre;overflow-x:auto;line-height:normal;font-family:Menlo,'DejaVu Sans Mono',consolas,'Courier New',monospace\"></pre>\n"
      ],
      "text/plain": []
     },
     "metadata": {},
     "output_type": "display_data"
    },
    {
     "data": {
      "text/html": [
       "<pre style=\"white-space:pre;overflow-x:auto;line-height:normal;font-family:Menlo,'DejaVu Sans Mono',consolas,'Courier New',monospace\"></pre>\n"
      ],
      "text/plain": []
     },
     "metadata": {},
     "output_type": "display_data"
    },
    {
     "data": {
      "text/html": [
       "<pre style=\"white-space:pre;overflow-x:auto;line-height:normal;font-family:Menlo,'DejaVu Sans Mono',consolas,'Courier New',monospace\"></pre>\n"
      ],
      "text/plain": []
     },
     "metadata": {},
     "output_type": "display_data"
    },
    {
     "data": {
      "text/html": [
       "<pre style=\"white-space:pre;overflow-x:auto;line-height:normal;font-family:Menlo,'DejaVu Sans Mono',consolas,'Courier New',monospace\"></pre>\n"
      ],
      "text/plain": []
     },
     "metadata": {},
     "output_type": "display_data"
    },
    {
     "data": {
      "text/html": [
       "<pre style=\"white-space:pre;overflow-x:auto;line-height:normal;font-family:Menlo,'DejaVu Sans Mono',consolas,'Courier New',monospace\"></pre>\n"
      ],
      "text/plain": []
     },
     "metadata": {},
     "output_type": "display_data"
    },
    {
     "data": {
      "text/html": [
       "<pre style=\"white-space:pre;overflow-x:auto;line-height:normal;font-family:Menlo,'DejaVu Sans Mono',consolas,'Courier New',monospace\"></pre>\n"
      ],
      "text/plain": []
     },
     "metadata": {},
     "output_type": "display_data"
    },
    {
     "data": {
      "text/html": [
       "<pre style=\"white-space:pre;overflow-x:auto;line-height:normal;font-family:Menlo,'DejaVu Sans Mono',consolas,'Courier New',monospace\"></pre>\n"
      ],
      "text/plain": []
     },
     "metadata": {},
     "output_type": "display_data"
    },
    {
     "data": {
      "text/html": [
       "<pre style=\"white-space:pre;overflow-x:auto;line-height:normal;font-family:Menlo,'DejaVu Sans Mono',consolas,'Courier New',monospace\"></pre>\n"
      ],
      "text/plain": []
     },
     "metadata": {},
     "output_type": "display_data"
    }
   ],
   "source": [
    "results, _ = inference_top_down_pose_model(detector, img, person_results=[{\"bbox\": bbox}], format=\"xyxy\")\n",
    "kpts = results[0][\"keypoints\"]\n",
    "\n",
    "body_kpts = kpts[body_idxs]\n",
    "hand_kpts = kpts[hand_idxs]"
   ]
  },
  {
   "cell_type": "code",
   "execution_count": null,
   "id": "71b9cc29",
   "metadata": {},
   "outputs": [],
   "source": [
    "plt.figure(figsize=(10, 10))\n",
    "plt.imshow(img[bbox[1] : bbox[3], bbox[0] : bbox[2]])\n",
    "plt.scatter(\n",
    "    body_kpts[body_kpts[:, 2] >= 0.7, 0] - bbox[0],\n",
    "    body_kpts[body_kpts[:, 2] >= 0.7, 1] - bbox[1],\n",
    "    c=\"red\",\n",
    "    s=10,\n",
    ")\n",
    "plt.scatter(\n",
    "    hand_kpts[hand_kpts[:, 2] >= 0.8, 0] - bbox[0],\n",
    "    hand_kpts[hand_kpts[:, 2] >= 0.8, 1] - bbox[1],\n",
    "    c=\"blue\",\n",
    "    s=10,\n",
    ")"
   ]
  },
  {
   "cell_type": "code",
   "execution_count": null,
   "id": "025b416d",
   "metadata": {},
   "outputs": [],
   "source": [
    "# annos = np.array([[anno[\"x\"], anno[\"y\"]] for anno in annos[\"annotation2D\"][cam].values()])"
   ]
  },
  {
   "cell_type": "code",
   "execution_count": null,
   "id": "7285c8ee",
   "metadata": {},
   "outputs": [],
   "source": [
    "# xmin, ymin = annos.min(axis=0)\n",
    "# xmax, ymax = annos.max(axis=0)\n",
    "\n",
    "# h = int(1.25 * (ymax - ymin))\n",
    "# w = int(1.25 * (xmax - xmin))\n",
    "\n",
    "# xc = int(xmin + xmax) // 2\n",
    "# yc = int(ymin + ymax) // 2\n",
    "\n",
    "# bbox = [xc - w // 2, yc - h // 2, xc + w // 2, yc + h // 2]"
   ]
  },
  {
   "cell_type": "code",
   "execution_count": null,
   "id": "ffb15c71",
   "metadata": {},
   "outputs": [],
   "source": [
    "kpts = results[0][\"keypoints\"][:23]"
   ]
  },
  {
   "cell_type": "code",
   "execution_count": null,
   "id": "10bd5ce9",
   "metadata": {},
   "outputs": [],
   "source": [
    "plt.figure(figsize=(10, 10))\n",
    "plt.imshow(img[bbox[1] : bbox[3], bbox[0] : bbox[2]])\n",
    "plt.scatter(kpts[kpts[:, 2] >= 0.7, 0] - bbox[0], kpts[kpts[:, 2] >= 0.7, 1] - bbox[1])"
   ]
  },
  {
   "cell_type": "code",
   "execution_count": null,
   "id": "b2e17b2e",
   "metadata": {},
   "outputs": [],
   "source": [
    "img_path = f\"{data_dir}/cam02/{img_idxs}.jpg\"\n",
    "img = cv2.imread(img_path)[:, :, ::-1]"
   ]
  },
  {
   "cell_type": "code",
   "execution_count": null,
   "id": "2875b5c1",
   "metadata": {},
   "outputs": [],
   "source": [
    "bbox = [1200, 1325, 1725, 1825]\n",
    "results, _ = inference_top_down_pose_model(detector, img, person_results=[{\"bbox\": bbox}], format=\"xyxy\")\n",
    "kpts = results[0][\"keypoints\"][:23]"
   ]
  },
  {
   "cell_type": "code",
   "execution_count": null,
   "id": "992993d1",
   "metadata": {},
   "outputs": [],
   "source": [
    "plt.figure(figsize=(10, 10))\n",
    "plt.imshow(img[bbox[1] : bbox[3], bbox[0] : bbox[2]])\n",
    "plt.scatter(kpts[kpts[:, 2] >= 0.75, 0] - bbox[0], kpts[kpts[:, 2] >= 0.75, 1] - bbox[1])"
   ]
  },
  {
   "cell_type": "code",
   "execution_count": null,
   "id": "52f9310a",
   "metadata": {},
   "outputs": [],
   "source": [
    "img_path = f\"{data_dir}/cam03/{img_idxs}.jpg\"\n",
    "img = cv2.imread(img_path)[:, :, ::-1]"
   ]
  },
  {
   "cell_type": "code",
   "execution_count": null,
   "id": "0c852272",
   "metadata": {},
   "outputs": [],
   "source": [
    "bbox = [400, 1475, 1250, 2100]\n",
    "results, _ = inference_top_down_pose_model(detector, img, person_results=[{\"bbox\": bbox}], format=\"xyxy\")\n",
    "kpts = results[0][\"keypoints\"][:23]"
   ]
  },
  {
   "cell_type": "code",
   "execution_count": null,
   "id": "491e13a2",
   "metadata": {},
   "outputs": [],
   "source": [
    "plt.figure(figsize=(10, 10))\n",
    "plt.imshow(img[bbox[1] : bbox[3], bbox[0] : bbox[2]])\n",
    "plt.scatter(kpts[kpts[:, 2] >= 0.75, 0] - bbox[0], kpts[kpts[:, 2] >= 0.75, 1] - bbox[1])"
   ]
  },
  {
   "cell_type": "code",
   "execution_count": null,
   "id": "28bffaa9",
   "metadata": {},
   "outputs": [],
   "source": [
    "img_path = f\"{data_dir}/cam04/{img_idxs}.jpg\"\n",
    "img = cv2.imread(img_path)[:, :, ::-1]"
   ]
  },
  {
   "cell_type": "code",
   "execution_count": null,
   "id": "836653ec",
   "metadata": {},
   "outputs": [],
   "source": [
    "bbox = [675, 2050, 1075, 2350]\n",
    "# bbox = [1185, 2450, 1540, 3025]\n",
    "results, _ = inference_top_down_pose_model(detector, img, person_results=[{\"bbox\": bbox}], format=\"xyxy\")\n",
    "kpts = results[0][\"keypoints\"][:23]"
   ]
  },
  {
   "cell_type": "code",
   "execution_count": null,
   "id": "6456edd7",
   "metadata": {},
   "outputs": [],
   "source": [
    "plt.imshow(img[bbox[1] : bbox[3], bbox[0] : bbox[2]])\n",
    "plt.scatter(kpts[kpts[:, 2] >= 0.75, 0] - bbox[0], kpts[kpts[:, 2] >= 0.75, 1] - bbox[1])"
   ]
  },
  {
   "cell_type": "code",
   "execution_count": null,
   "id": "9d41df6b",
   "metadata": {},
   "outputs": [],
   "source": [
    "kpts"
   ]
  },
  {
   "cell_type": "code",
   "execution_count": null,
   "id": "574b1120",
   "metadata": {},
   "outputs": [],
   "source": []
  }
 ],
 "metadata": {
  "kernelspec": {
   "display_name": "vitpose",
   "language": "python",
   "name": "python3"
  },
  "language_info": {
   "codemirror_mode": {
    "name": "ipython",
    "version": 3
   },
   "file_extension": ".py",
   "mimetype": "text/x-python",
   "name": "python",
   "nbconvert_exporter": "python",
   "pygments_lexer": "ipython3",
   "version": "3.9.22"
  }
 },
 "nbformat": 4,
 "nbformat_minor": 5
}
